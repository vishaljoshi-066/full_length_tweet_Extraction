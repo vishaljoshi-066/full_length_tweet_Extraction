{
 "cells": [
  {
   "cell_type": "code",
   "execution_count": null,
   "metadata": {},
   "outputs": [],
   "source": [
    "import tweepy                             #api to fetch tweeets\n",
    "from googletrans import Translator        #api to translate one language to another\n",
    "import re\n",
    "translator=Translator()\n",
    "\n",
    "consumer_key = \"xxxxxxxxxxxxxxxxxxxxxxxxxxxxxxxxxxxx\"      # find these token from twitter developer account \n",
    "consumer_secret = \"xxxxxxxxxxxxxxxxxxxxxxxxxxxxxxxxxxxx\"   # click and create an app and then browse to token and copy your keys here\n",
    "access_key = \"xxxxxxx-xxxxxxxxxxxxxxxxxxxxxxxxxxxxx\"\n",
    "access_secret = \"xxxxxxxxxxxxxxxxxxxxxxxxxxxxxxxxxxxx\"\n",
    "\n",
    "#do not share these tokens with anyone as they can be used to exploit your twitter data\n",
    "\n",
    "def fetch(Twitter_handle): \n",
    "        \n",
    "    verify = tweepy.OAuthHandler(consumer_key, consumer_secret) \n",
    "    verify.set_access_token(access_key, access_secret)\n",
    "    var=[]\n",
    "    api = tweepy.API(verify) \n",
    "    tweets = api.user_timeline(screen_name=Twitter_handle,count=2,tweet_mode='extended') # you can set count to the number of tweets you want starting from the most recent tweet\n",
    "    list_tweets= [tweet.full_text for tweet in tweets] \n",
    "    #tweet_mode is set to extended  and .full_text is used with extracted tweets to fetch full length of tweets\n",
    "    \n",
    "    for element in list_tweets: \n",
    "        element=re.sub(\"\\n\",'',element)     # regex to remove url and other puctuations\n",
    "        element=re.sub(r\"@[a-z]*|#(\\w+)\",'',element)\n",
    "        element=re.sub(\"/\",' or ',element)\n",
    "        element=re.sub(\"-\",' ',element)\n",
    "        element=translator.translate(element,dest='en').text    #using translator to translate the extracted tweets in english from any language\n",
    "        #this API will detect language on its own since they have fuctions inside this API to do so and \"en\" is for english\n",
    "        var.append(element)              #append all tweets to a list var[]\n",
    "\n",
    "        \n",
    "    print(var) # print tweets\n",
    "\n",
    "\n",
    "\n",
    "if __name__ == '__main__': \n",
    "\n",
    "\n",
    "    fetch(\"---name of the twitter account whose tweets you want to fetch---\") \n",
    "\n",
    "\n"
   ]
  },
  {
   "cell_type": "markdown",
   "metadata": {},
   "source": [
    "# P.S. \n",
    "\n",
    "## i don't want to beautify this code as this is my own working module for a project but you can put these functionalities inside class and methods which you can easily find on someone else repository\n",
    "\n",
    "\n",
    "\n",
    "\n",
    "\n",
    "# THANK YOU\n"
   ]
  },
  {
   "cell_type": "code",
   "execution_count": null,
   "metadata": {},
   "outputs": [],
   "source": []
  }
 ],
 "metadata": {
  "kernelspec": {
   "display_name": "Python 3",
   "language": "python",
   "name": "python3"
  },
  "language_info": {
   "codemirror_mode": {
    "name": "ipython",
    "version": 3
   },
   "file_extension": ".py",
   "mimetype": "text/x-python",
   "name": "python",
   "nbconvert_exporter": "python",
   "pygments_lexer": "ipython3",
   "version": "3.7.3"
  }
 },
 "nbformat": 4,
 "nbformat_minor": 2
}
